{
 "cells": [
  {
   "cell_type": "markdown",
   "metadata": {},
   "source": [
    "# 04. Adv DQN example with CartPole"
   ]
  },
  {
   "cell_type": "markdown",
   "metadata": {},
   "source": [
    "## Colab 용 package 설치 코드"
   ]
  },
  {
   "cell_type": "code",
   "execution_count": null,
   "metadata": {},
   "outputs": [],
   "source": [
    "!pip install gym\n",
    "!pip install JSAnimation"
   ]
  },
  {
   "cell_type": "markdown",
   "metadata": {},
   "source": [
    "### package import"
   ]
  },
  {
   "cell_type": "code",
   "execution_count": 1,
   "metadata": {},
   "outputs": [
    {
     "name": "stderr",
     "output_type": "stream",
     "text": [
      "C:\\Users\\blue2\\Anaconda3\\envs\\rl_study\\lib\\site-packages\\h5py\\__init__.py:36: FutureWarning: Conversion of the second argument of issubdtype from `float` to `np.floating` is deprecated. In future, it will be treated as `np.float64 == np.dtype(float).type`.\n",
      "  from ._conv import register_converters as _register_converters\n"
     ]
    },
    {
     "name": "stdout",
     "output_type": "stream",
     "text": [
      "tensorflow version:  1.7.0\n",
      "gym version:  0.9.4\n"
     ]
    }
   ],
   "source": [
    "# The typical imports\n",
    "from IPython.display import clear_output\n",
    "import gym\n",
    "import numpy as np\n",
    "import matplotlib.pyplot as plt\n",
    "import random\n",
    "\n",
    "from collections import deque\n",
    "\n",
    "%matplotlib inline\n",
    "\n",
    "import tensorflow as tf\n",
    "\n",
    "np.random.seed(285)\n",
    "tf.set_random_seed(285)\n",
    "\n",
    "print(\"tensorflow version: \", tf.__version__)\n",
    "print(\"gym version: \", gym.__version__)"
   ]
  },
  {
   "cell_type": "markdown",
   "metadata": {},
   "source": [
    "### 게임 화면을 보여주기 위한 함수"
   ]
  },
  {
   "cell_type": "code",
   "execution_count": 2,
   "metadata": {},
   "outputs": [],
   "source": [
    "# Imports specifically so we can render outputs in Jupyter.\n",
    "from JSAnimation.IPython_display import display_animation\n",
    "from matplotlib import animation\n",
    "from IPython.display import display\n",
    "\n",
    "def display_frames_as_gif(frames):\n",
    "    \"\"\"\n",
    "    Displays a list of frames as a gif, with controls\n",
    "    \"\"\"\n",
    "    #plt.figure(figsize=(frames[0].shape[1] / 72.0, frames[0].shape[0] / 72.0), dpi = 72)\n",
    "    patch = plt.imshow(frames[0])\n",
    "    plt.axis('off')\n",
    "\n",
    "    def animate(i):\n",
    "        patch.set_data(frames[i])\n",
    "\n",
    "    anim = animation.FuncAnimation(plt.gcf(), animate, frames = len(frames), interval=50)\n",
    "    display(display_animation(anim, default_mode='loop'))"
   ]
  },
  {
   "cell_type": "markdown",
   "metadata": {},
   "source": [
    "### 그래프를 그리기 위한 함수"
   ]
  },
  {
   "cell_type": "code",
   "execution_count": 3,
   "metadata": {
    "collapsed": true
   },
   "outputs": [],
   "source": [
    "def plot(frame_idx, episode, rewards, losses):\n",
    "    clear_output(True)\n",
    "    plt.figure(figsize=(20,5))\n",
    "    plt.subplot(131)\n",
    "    plt.title('episode %s. reward: %s' % (episode, np.mean(rewards[-10:])))\n",
    "    plt.plot(rewards)\n",
    "    plt.subplot(132)\n",
    "    plt.title('loss')\n",
    "    plt.plot(losses)\n",
    "    plt.show()"
   ]
  },
  {
   "cell_type": "markdown",
   "metadata": {},
   "source": [
    "<script src='https://cdnjs.cloudflare.com/ajax/libs/mathjax/2.7.4/MathJax.js?config=TeX-MML-AM_CHTML' async></script>\n",
    "## CartPole\n",
    "CartPole is game that ballance pole on the car.  \n",
    "this game's observation is $x$, $x\\prime$, $\\theta$, $\\theta\\prime$\n",
    "\n",
    "$x$ : 카트의 위치  \n",
    "$\\theta$ : 막대의 각도  \n",
    "$x\\prime$ : 카트의 속도  \n",
    "$\\theta\\prime$ : 막대의 각속도  \n",
    "\n",
    "Action is **Left** or **Right**  \n",
    "\n",
    "모든 step 마다 보상을 1 받으며, 아래 3가지 경우에 episode가 끝난다.\n",
    "1. 카트가 바깥으로 나갈 때\n",
    "2. 기둥이 너무 많이 기울었을 때\n",
    "3. 200 step 지났을 때  \n",
    "<img src=\"./img/cartpole.gif\" width=\"60%\" align=\"left\"> "
   ]
  },
  {
   "cell_type": "code",
   "execution_count": 4,
   "metadata": {},
   "outputs": [
    {
     "name": "stdout",
     "output_type": "stream",
     "text": [
      "Observation size :  4\n",
      "Action size :  2\n"
     ]
    }
   ],
   "source": [
    "# CartPole 환경\n",
    "env_id = \"CartPole-v0\"\n",
    "env = gym.make(env_id)\n",
    "\n",
    "state_size = env.observation_space.shape[0]\n",
    "action_size = env.action_space.n\n",
    "print(\"Observation size : \", state_size)\n",
    "print(\"Action size : \", action_size)"
   ]
  },
  {
   "cell_type": "markdown",
   "metadata": {},
   "source": [
    "## Adv DQN Agent"
   ]
  },
  {
   "cell_type": "markdown",
   "metadata": {},
   "source": [
    "### Prioritized Replay Buffer\n",
    "TD error를 같이 저장해서 우선순위를 결정한다.  \n",
    "$\\alpha$는 hyperparameter로 우선순위를 얼마나 적용할 건지 결정한다. 0이면 uniform sample이다.  \n",
    "<img src=\"./img/PER.png\" width=\"30%\" align=\"left\"> "
   ]
  },
  {
   "cell_type": "markdown",
   "metadata": {},
   "source": [
    "$\\epsilon$은 TD error가 0일 경우 확률이 0이 되버리기 때문에 그것을 방지하는 작은 상수이다.  \n",
    "<img src=\"./img/PER2.png\" width=\"20%\" align=\"left\">  "
   ]
  },
  {
   "cell_type": "code",
   "execution_count": 5,
   "metadata": {},
   "outputs": [
    {
     "name": "stdout",
     "output_type": "stream",
     "text": [
      "state_size: (4,)\n",
      "next_state_size: (4,)\n",
      "state_size: (1, 4)\n",
      "next_state_size: (1, 4)\n"
     ]
    }
   ],
   "source": [
    "from collections import deque\n",
    "\n",
    "state = env.reset()\n",
    "action = env.action_space.sample()\n",
    "next_state, reward, done, _ = env.step(action)\n",
    "\n",
    "print(\"state_size:\", np.shape(state))\n",
    "print(\"next_state_size:\", np.shape(next_state))\n",
    "\n",
    "# state, next_state의 차원을 늘림. batch 단위로 묶을 때 size를 맞추기 위해\n",
    "# 참고) np.expand_dims( array, axis=0 )\n",
    "state = np.expand_dims(state, axis=0)\n",
    "next_state = np.expand_dims(next_state, axis=0)\n",
    "\n",
    "print(\"state_size:\", np.shape(state))\n",
    "print(\"next_state_size:\", np.shape(next_state))"
   ]
  },
  {
   "cell_type": "code",
   "execution_count": 6,
   "metadata": {},
   "outputs": [
    {
     "name": "stdout",
     "output_type": "stream",
     "text": [
      "(1, 5)\n",
      "deque([(array([[ 0.0202996 , -0.00759086, -0.03611074,  0.03159282]]), 0, 1.0, array([[ 0.02014779, -0.20217686, -0.03547888,  0.31266729]]), False)], maxlen=10)\n",
      "deque([1], maxlen=10)\n"
     ]
    }
   ],
   "source": [
    "#  deque buffer 생성\n",
    "buffer = deque(maxlen=10)\n",
    "td_buffer = deque(maxlen=10)\n",
    "\n",
    "transition = (state, action, reward, next_state, done)\n",
    "buffer.append(transition)\n",
    "td_buffer.append(1)\n",
    "\n",
    "print(np.shape(buffer))\n",
    "print(buffer)\n",
    "print(td_buffer)"
   ]
  },
  {
   "cell_type": "code",
   "execution_count": 7,
   "metadata": {},
   "outputs": [
    {
     "name": "stdout",
     "output_type": "stream",
     "text": [
      "(3, 4)\n",
      "[[ 0.02014779 -0.20217686 -0.03547888  0.31266729]\n",
      " [ 0.02014779 -0.20217686 -0.03547888  0.31266729]\n",
      " [ 0.02014779 -0.20217686 -0.03547888  0.31266729]]\n",
      "[0, 0, 0]\n",
      "[1.0, 1.0, 1.0]\n",
      "[False, False, False]\n"
     ]
    }
   ],
   "source": [
    "# buffer에서 batch size만큼 sampling\n",
    "for i in range(5):\n",
    "    buffer.append(transition)\n",
    "    td_buffer.append(i)\n",
    "    \n",
    "batch_size = 3\n",
    "# 참고) random.sample(list, sample 수)\n",
    "td_sum = sum(td_buffer)\n",
    "# td error를 이용해 확률분포 p를 구한다\n",
    "p = [td_error / td_sum for td_error in td_buffer]\n",
    "# p의 확률분포에 따라 buffer에서 random.choice 한다.\n",
    "indexes = np.random.choice(np.arange(len(buffer)), batch_size, p=p)\n",
    "transitions = [buffer[idx] for idx in indexes]\n",
    "\n",
    "state, action, reward, next_state, done = [], [], [], [], []\n",
    "for t in transitions:\n",
    "    state.append(t[0])\n",
    "    action.append(t[1])\n",
    "    reward.append(t[2])\n",
    "    next_state.append(t[3])\n",
    "    done.append(t[4])\n",
    "    \n",
    "state = np.squeeze(state)\n",
    "next_state = np.squeeze(next_state)\n",
    "\n",
    "print(np.shape(state))\n",
    "print(next_state)\n",
    "print(action)\n",
    "print(reward)\n",
    "print(done)"
   ]
  },
  {
   "cell_type": "markdown",
   "metadata": {},
   "source": [
    "### Prioritized Replay Buffer class"
   ]
  },
  {
   "cell_type": "code",
   "execution_count": 8,
   "metadata": {},
   "outputs": [],
   "source": [
    "class P_Replay_Buffer(object):\n",
    "    def __init__(self, capacity):\n",
    "        self.buffer = deque(maxlen=capacity)\n",
    "        self.td_buffer = deque(maxlen=capacity)\n",
    "        self.capacity = capacity\n",
    "\n",
    "    def __len__(self):\n",
    "        return len(self.buffer)\n",
    "    \n",
    "    def add_sample(self, state, action, reward, next_state, done, td_error):\n",
    "        state      = np.expand_dims(state, 0)\n",
    "        next_state = np.expand_dims(next_state, 0)\n",
    "            \n",
    "        self.buffer.append((state, action, reward, next_state, done))\n",
    "        self.td_buffer.append(td_error)\n",
    "\n",
    "    def sampling(self, batch_size):\n",
    "        td_sum = sum(self.td_buffer)\n",
    "        p = [td_error / td_sum for td_error in self.td_buffer]\n",
    "        indexes = np.random.choice(np.arange(len(self.buffer)), batch_size, p=p)\n",
    "        transitions = [self.buffer[idx] for idx in indexes]\n",
    "        state, action, reward, next_state, done = zip(*transitions)\n",
    "        return np.concatenate(state), action, reward, np.concatenate(next_state), done"
   ]
  },
  {
   "cell_type": "markdown",
   "metadata": {},
   "source": [
    "### DQN Agent Class\n",
    "<img src=\"./img/hyperparameters.png\" width=\"100%\" align=\"left\"> "
   ]
  },
  {
   "cell_type": "markdown",
   "metadata": {},
   "source": [
    "### Double DQN\n",
    "Loss를 다음과 같이 바꾼다.  \n",
    "$\\hat{Q}$ : Target network Q   \n",
    "$Q$ : Policy network Q  \n",
    "<img src=\"./img/DDQN.png\" width=\"60%\" align=\"left\">  "
   ]
  },
  {
   "cell_type": "markdown",
   "metadata": {},
   "source": [
    "### Dueling\n",
    "신경망 구조를 v와 advantage로 나눈다.  \n",
    "<img src=\"./img/Dueling.png\" width=\"40%\" align=\"left\"> "
   ]
  },
  {
   "cell_type": "code",
   "execution_count": 9,
   "metadata": {},
   "outputs": [
    {
     "name": "stdout",
     "output_type": "stream",
     "text": [
      "WARNING:tensorflow:From C:\\Users\\blue2\\Anaconda3\\envs\\rl_study\\lib\\site-packages\\tensorflow\\contrib\\learn\\python\\learn\\datasets\\base.py:198: retry (from tensorflow.contrib.learn.python.learn.datasets.base) is deprecated and will be removed in a future version.\n",
      "Instructions for updating:\n",
      "Use the retry module or similar alternatives.\n"
     ]
    }
   ],
   "source": [
    "layer = tf.contrib.layers\n",
    "\n",
    "class DQNAgent:\n",
    "    def __init__(self, sess, state_size, action_size):\n",
    "        self.sess = sess    \n",
    "        \n",
    "        self.state_size = state_size\n",
    "        self.action_size = action_size\n",
    "        \n",
    "        # hyper parameter\n",
    "        self.batch_size = 32\n",
    "        self.s_epsilon = 1\n",
    "        self.e_epsilon = 0.01\n",
    "        self.n_epsilon_decay = 1000\n",
    "        self.epsilon = self.s_epsilon\n",
    "        self.discount_factor = 0.99\n",
    "        self.learning_rate = 0.00025\n",
    "        \n",
    "        # set placeholder\n",
    "        self.input_p_net = tf.placeholder(tf.float32, shape=(None, self.state_size))\n",
    "        self.input_t_net = tf.placeholder(tf.float32, shape=(None, self.state_size))\n",
    "        \n",
    "        # action placeholder used to get main Q(S,A)\n",
    "        self.input_A = tf.placeholder(tf.int32, shape=None)\n",
    "        \n",
    "        # target Y placeholder\n",
    "        self.input_Y = tf.placeholder(tf.float32, shape=None)\n",
    "        \n",
    "        self.policy_q = self._build_network(self.input_p_net, \"policy_net\")\n",
    "        self.target_q = self._build_network(self.input_t_net, \"target_net\")\n",
    "        \n",
    "        self.loss_op, self.train_op = self._build_op()\n",
    "        \n",
    "    def _build_network(self, inputs, name):\n",
    "        \"\"\"\n",
    "        tf.contrib.layers.fully_connected()를 이용해\n",
    "        hidden layer가 하나인 신경망을 구성합니다.\n",
    "        입력 : 상태 (state_size)\n",
    "        출력 : q-value (action_size)\n",
    "        hidden layer size : 128\n",
    "        activation function : Relu\n",
    "        \"\"\"\n",
    "        # 빈칸 {} 을 지우고 채워주세요.\n",
    "        # 참고) layer.fully_connected(입력, 출력 사이즈, activation function)\n",
    "        # 참고2) relu -> tf.nn.relu\n",
    "        with tf.variable_scope(name): \n",
    "            with tf.variable_scope(\"value\"):\n",
    "                v_fc1 = layer.fully_connected(inputs, 128, activation_fn=tf.nn.relu)\n",
    "                v_fc2 = layer.fully_connected(v_fc1, 128, activation_fn=tf.nn.relu)\n",
    "                value = layer.fully_connected(v_fc2, 1, activation_fn=None)\n",
    "            with tf.variable_scope(\"advantage\"):\n",
    "                a_fc1 = layer.fully_connected(inputs, 128, activation_fn=tf.nn.relu)\n",
    "                a_fc2 = layer.fully_connected(a_fc1, 128, activation_fn=tf.nn.relu)\n",
    "                advantage = layer.fully_connected(a_fc2, self.action_size, activation_fn=None)   \n",
    "            q_value = value + advantage - tf.reduce_mean(advantage)\n",
    "        return q_value\n",
    "    \n",
    "    def _get_Q_with_A(self, Q_value):\n",
    "        \"\"\"\n",
    "        Q(S,A) 를 구합니다. [batch_size,]\n",
    "        Q 신경망을 이용해 특정 action에 해당하는 Q-value를 구합니다.\n",
    "        \"\"\"\n",
    "        # 직접 작성해보세요.\n",
    "        # 참고) # 이전 실습에서 현재 action에 대한 Q_value 구하는 연산\n",
    "        #          curr_action = tf.one_hot(input_action, action_size)\n",
    "        #          curr_q_value = tf.reduce_sum(tf.multiply(q_value, curr_action))\n",
    "        one_hot = tf.one_hot(self.input_A, self.action_size, 1.0, 0.0)\n",
    "        Q_with_A = tf.reduce_sum(tf.multiply(Q_value, one_hot), axis=1)\n",
    "        return Q_with_A\n",
    "\n",
    "    def _get_Y(self, next_state, reward, done):\n",
    "        \"\"\"\n",
    "        Double DQN 적용!!\n",
    "        학습 시 Target이 되는 Y값을 구합니다. (Reward + 다음 state의 Q값들 중 max)\n",
    "        \"\"\"\n",
    "        \n",
    "        # 참고)\n",
    "        # # episode가 끝났다면\n",
    "        # if done:\n",
    "        #         next_q_value = np.array([reward])\n",
    "        # # 끝나지 않았다면\n",
    "        # else:\n",
    "        #         next_q_value = reward + gamma * np.max(sess.run(q_value, feed_dict={inputs: next_state}), axis=1)\n",
    "\n",
    "        policy_a = tf.stop_gradient(tf.argmax(self.policy_q, axis=1))\n",
    "        one_hot = tf.one_hot(policy_a, self.action_size, 1.0, 0.0)\n",
    "        Q_with_A = tf.stop_gradient(tf.reduce_sum(tf.multiply(self.target_q, one_hot), axis=1))\n",
    "        target_Q_with_A = self.sess.run(Q_with_A, feed_dict={self.input_p_net: next_state,\n",
    "                                                             self.input_t_net: next_state})\n",
    "        Y = reward + self.discount_factor * target_Q_with_A * (1 - np.array(done))\n",
    "        return Y\n",
    "    \n",
    "    def _build_op(self):\n",
    "        \"\"\"\n",
    "        신경망 학습을 위한 Loss function과 Optimaizer를 정의합니다.\n",
    "        \"\"\"\n",
    "        # 참고) 이전 실습에서 Loss 함수 구성\n",
    "        #         loss_op = tf.square(target - curr_q_value)\n",
    "        #         opt = tf.train.GradientDescentOptimizer(learning_rate=0.1)\n",
    "        #         train_op = opt.minimize(loss_op)\n",
    "        main_Q_with_A = self._get_Q_with_A(self.policy_q)\n",
    "        loss_op = tf.reduce_mean(tf.square(self.input_Y - main_Q_with_A))\n",
    "        train_op = tf.train.RMSPropOptimizer(learning_rate=self.learning_rate,\n",
    "                                                              decay=0.95,\n",
    "                                                              momentum=0.95,\n",
    "                                                              epsilon=0.01).minimize(loss_op)\n",
    "        return loss_op, train_op\n",
    "    \n",
    "    def train(self):\n",
    "        \"\"\"\n",
    "        replay buffer에서 batch size만큼 가져온 후\n",
    "        학습 네트워크를 학습합니다.\n",
    "        loss function은 위의 수식 참고\n",
    "        \"\"\"\n",
    "        # replay buffer로부터 transition을 가져옴\n",
    "        # 직접 작성해보세요.\n",
    "        # 참고) 위에 작성한 replay buffer class, replay_buffer.sampling()\n",
    "        state, action, reward, next_state, is_terminal = \\\n",
    "                                replay_buffer.sampling(self.batch_size)\n",
    "\n",
    "        action = np.squeeze(action, 1)\n",
    "\n",
    "        # get target Y: [batch_size,]\n",
    "        # 내장 함수 get_Y를 이용함.\n",
    "        Y = self._get_Y(next_state, reward, is_terminal)\n",
    "        loss, _ = self.sess.run([self.loss_op, agent.train_op],\\\n",
    "                                                        feed_dict={self.input_p_net: state,\n",
    "                                                                        self.input_A: action, \n",
    "                                                                        self.input_Y: Y})\n",
    "        return loss\n",
    "    \n",
    "    def update_target_network(self):\n",
    "        \"\"\"\n",
    "        학습 네트웍의 변수의 값들을 타겟 네트웍으로 복사해서 타겟 네트웍의 값들을 최신으로 업데이트합니다.\n",
    "        \"\"\"\n",
    "        copy_op = []\n",
    "\n",
    "        main_q_vars = tf.get_collection(tf.GraphKeys.TRAINABLE_VARIABLES, scope='policy_net')\n",
    "        target_vars = tf.get_collection(tf.GraphKeys.TRAINABLE_VARIABLES, scope='target_net')\n",
    "\n",
    "        for main_q_var, target_var in zip(main_q_vars, target_vars):\n",
    "            copy_op.append(target_var.assign(main_q_var.value()))\n",
    "        self.sess.run(copy_op)\n",
    "        \n",
    "    def get_action(self, state, is_play=False):\n",
    "        \"\"\"\n",
    "        epsilon-greedy로 action을 선택합니다.\n",
    "        \"\"\"\n",
    "        if is_play:\n",
    "            self.epsion = 0\n",
    "        \n",
    "        # epsilon greedy policy\n",
    "        # 직접 작성해보세요.\n",
    "        if self.epsilon > random.random():\n",
    "            action = env.action_space.sample()\n",
    "        else:\n",
    "            state = np.expand_dims(state, axis=0)\n",
    "            policy_q = self.sess.run(self.policy_q, feed_dict={self.input_p_net: state})\n",
    "            action = np.argmax(policy_q, axis=1)\n",
    "        \n",
    "        # 매 step마다 epsilon을 줄여나갑니다.\n",
    "        if self.epsilon >= self.e_epsilon:\n",
    "            self.epsilon -= (self.s_epsilon - self.e_epsilon)/self.n_epsilon_decay    \n",
    "        return action"
   ]
  },
  {
   "cell_type": "markdown",
   "metadata": {
    "collapsed": true
   },
   "source": [
    "### DQN agent train"
   ]
  },
  {
   "cell_type": "code",
   "execution_count": 10,
   "metadata": {},
   "outputs": [],
   "source": [
    "# Session 열기\n",
    "sess = tf.Session()\n",
    "\n",
    "# DQN Agent 객체 생성\n",
    "agent = DQNAgent(sess, state_size, action_size)\n",
    "\n",
    "# 변수 초기화\n",
    "sess.run(tf.global_variables_initializer())"
   ]
  },
  {
   "cell_type": "markdown",
   "metadata": {},
   "source": [
    "### DQN 학습"
   ]
  },
  {
   "cell_type": "code",
   "execution_count": null,
   "metadata": {},
   "outputs": [
    {
     "data": {
      "image/png": "[encoded data removed]",
      "text/plain": [
       "<matplotlib.figure.Figure at 0x1e0bdf5ae48>"
      ]
     },
     "metadata": {},
     "output_type": "display_data"
    }
   ],
   "source": [
    "EPISODE = 30\n",
    "\n",
    "replay_initial = 50\n",
    "target_update = 10\n",
    "td_error_const = 0.0001\n",
    "td_error_alpha = 0.5\n",
    "\n",
    "total_step = 1\n",
    "all_episode_reward = []\n",
    "losses = []\n",
    "\n",
    "replay_buffer = P_Replay_Buffer(capacity=1000)\n",
    "for e in range(EPISODE):\n",
    "    print(\"EPISODE: {}\".format(e+1))\n",
    "    observation = env.reset()\n",
    "    done = False\n",
    "   \n",
    "    step = 1\n",
    "    episode_reward = 0\n",
    "    frames = []\n",
    "    \n",
    "    while not done:\n",
    "        \n",
    "        # action 선택\n",
    "        action = int(agent.get_action(observation))\n",
    "        \n",
    "        # 선택한 action으로 env.step()\n",
    "        next_observation, reward, done, _ = env.step(action)\n",
    "        step += 1\n",
    "        total_step += 1\n",
    "        episode_reward += reward\n",
    "        \n",
    "        # trajectory(S, A, R, S', done) + td_error를 Replay buffer에 저장 \n",
    "        Y = agent._get_Y(next_state, reward, done)\n",
    "\n",
    "        td_error = (td_error_const + sess.run(agent.loss_op, feed_dict={agent.input_p_net: state,\n",
    "                                                                      agent.input_A: action, \n",
    "                                                                      agent.input_Y: Y})) ** td_error_alpha\n",
    "        replay_buffer.add_sample(observation, action, reward, \\\n",
    "                                                       next_observation, done, td_error)\n",
    "        \n",
    "        observation = next_observation\n",
    "        \n",
    "        # 만약에 episode가 끝났으면 reward 저장\n",
    "        if done:\n",
    "            all_episode_reward.append(episode_reward)\n",
    "        \n",
    "        # replay buffer가 일정 이상 채워지면 학습 시작\n",
    "        if len(replay_buffer) > replay_initial:\n",
    "            loss = agent.train()\n",
    "            losses.append(loss)\n",
    "            \n",
    "        # 일정 step마다 target Q 업데이트\n",
    "        if total_step > replay_initial and total_step % target_update == 0:\n",
    "            agent.update_target_network()\n",
    "            \n",
    "        # 그래프 그리기\n",
    "        if total_step % 100 == 0:\n",
    "            plot(step, e, all_episode_reward, losses)\n",
    "            \n",
    "    print(total_step)\n",
    "    env.close()"
   ]
  },
  {
   "cell_type": "markdown",
   "metadata": {},
   "source": [
    "### 학습된 DQN 테스트"
   ]
  },
  {
   "cell_type": "code",
   "execution_count": null,
   "metadata": {},
   "outputs": [],
   "source": [
    "EPISODE = 1\n",
    "\n",
    "all_episode_reward = []\n",
    "losses = []\n",
    "\n",
    "for e in range(EPISODE):\n",
    "    print(\"EPISODE: {}\".format(e+1))\n",
    "    observation = env.reset()\n",
    "    done = False\n",
    "   \n",
    "    step = 1\n",
    "    episode_reward = 0\n",
    "    frames = []\n",
    "    \n",
    "    while not done:\n",
    "        action = int(agent.get_action(observation, is_play=True))\n",
    "        \n",
    "        next_observation, reward, done, _ = env.step(action)\n",
    "        step += 1\n",
    "        total_step += 1\n",
    "        episode_reward += reward\n",
    "        \n",
    "        observation = next_observation\n",
    "        \n",
    "        if done:\n",
    "            all_episode_reward.append(episode_reward)\n",
    "        \n",
    "        # 게임화면 보여주기\n",
    "        if e % 1 == 0:\n",
    "            frames.append(env.render(mode = 'rgb_array'))\n",
    "            \n",
    "    env.close()\n",
    "    print(step)\n",
    "    if len(frames) > 0:\n",
    "        display_frames_as_gif(frames)"
   ]
  },
  {
   "cell_type": "code",
   "execution_count": null,
   "metadata": {
    "collapsed": true
   },
   "outputs": [],
   "source": []
  }
 ],
 "metadata": {
  "kernelspec": {
   "display_name": "rl_study",
   "language": "python",
   "name": "rl_study"
  },
  "language_info": {
   "codemirror_mode": {
    "name": "ipython",
    "version": 3
   },
   "file_extension": ".py",
   "mimetype": "text/x-python",
   "name": "python",
   "nbconvert_exporter": "python",
   "pygments_lexer": "ipython3",
   "version": "3.5.4"
  }
 },
 "nbformat": 4,
 "nbformat_minor": 2
}
