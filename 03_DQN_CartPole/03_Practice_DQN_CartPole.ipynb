{
 "cells": [
  {
   "cell_type": "markdown",
   "metadata": {},
   "source": [
    "# 03. DQN example with CartPole"
   ]
  },
  {
   "cell_type": "markdown",
   "metadata": {},
   "source": [
    "## Colab 용 package 설치 코드"
   ]
  },
  {
   "cell_type": "code",
   "execution_count": null,
   "metadata": {
    "collapsed": false
   },
   "outputs": [],
   "source": [
    "!pip install gym\n",
    "!pip install JSAnimation"
   ]
  },
  {
   "cell_type": "markdown",
   "metadata": {},
   "source": [
    "### package import"
   ]
  },
  {
   "cell_type": "code",
   "execution_count": null,
   "metadata": {
    "collapsed": false
   },
   "outputs": [],
   "source": [
    "# The typical imports\n",
    "from IPython.display import clear_output\n",
    "import gym\n",
    "import numpy as np\n",
    "import matplotlib.pyplot as plt\n",
    "import random\n",
    "\n",
    "from collections import deque\n",
    "\n",
    "%matplotlib inline\n",
    "\n",
    "import tensorflow as tf\n",
    "\n",
    "np.random.seed(285)\n",
    "tf.set_random_seed(285)\n",
    "\n",
    "print(\"tensorflow version: \", tf.__version__)\n",
    "print(\"gym version: \", gym.__version__)"
   ]
  },
  {
   "cell_type": "markdown",
   "metadata": {},
   "source": [
    "### 게임 화면을 보여주기 위한 함수"
   ]
  },
  {
   "cell_type": "code",
   "execution_count": null,
   "metadata": {
    "collapsed": true
   },
   "outputs": [],
   "source": [
    "# Imports specifically so we can render outputs in Jupyter.\n",
    "from JSAnimation.IPython_display import display_animation\n",
    "from matplotlib import animation\n",
    "from IPython.display import display\n",
    "\n",
    "def display_frames_as_gif(frames):\n",
    "    \"\"\"\n",
    "    Displays a list of frames as a gif, with controls\n",
    "    \"\"\"\n",
    "    #plt.figure(figsize=(frames[0].shape[1] / 72.0, frames[0].shape[0] / 72.0), dpi = 72)\n",
    "    patch = plt.imshow(frames[0])\n",
    "    plt.axis('off')\n",
    "\n",
    "    def animate(i):\n",
    "        patch.set_data(frames[i])\n",
    "\n",
    "    anim = animation.FuncAnimation(plt.gcf(), animate, frames = len(frames), interval=50)\n",
    "    display(display_animation(anim, default_mode='loop'))"
   ]
  },
  {
   "cell_type": "markdown",
   "metadata": {},
   "source": [
    "### 그래프를 그리기 위한 함수"
   ]
  },
  {
   "cell_type": "code",
   "execution_count": null,
   "metadata": {
    "collapsed": true
   },
   "outputs": [],
   "source": [
    "def plot(frame_idx, episode, rewards, losses):\n",
    "    clear_output(True)\n",
    "    plt.figure(figsize=(20,5))\n",
    "    plt.subplot(131)\n",
    "    plt.title('episode %s. reward: %s' % (episode, np.mean(rewards[-10:])))\n",
    "    plt.plot(rewards)\n",
    "    plt.subplot(132)\n",
    "    plt.title('loss')\n",
    "    plt.plot(losses)\n",
    "    plt.show()"
   ]
  },
  {
   "cell_type": "markdown",
   "metadata": {},
   "source": [
    "<script src='https://cdnjs.cloudflare.com/ajax/libs/mathjax/2.7.4/MathJax.js?config=TeX-MML-AM_CHTML' async></script>\n",
    "## CartPole\n",
    "CartPole is game that ballance pole on the car.  \n",
    "this game's observation is $x$, $x\\prime$, $\\theta$, $\\theta\\prime$\n",
    "\n",
    "$x$ : 카트의 위치  \n",
    "$\\theta$ : 막대의 각도  \n",
    "$x\\prime$ : 카트의 속도  \n",
    "$\\theta\\prime$ : 막대의 각속도  \n",
    "\n",
    "Action is **Left** or **Right**  \n",
    "\n",
    "모든 step 마다 보상을 1 받으며, 아래 3가지 경우에 episode가 끝난다.\n",
    "1. 카트가 바깥으로 나갈 때\n",
    "2. 기둥이 너무 많이 기울었을 때\n",
    "3. 200 step 지났을 때  \n",
    "<img src=\"./img/cartpole.gif\" width=\"60%\" align=\"left\"> "
   ]
  },
  {
   "cell_type": "code",
   "execution_count": null,
   "metadata": {
    "collapsed": false
   },
   "outputs": [],
   "source": [
    "# CartPole 환경\n",
    "env_id = \"CartPole-v0\"\n",
    "env = gym.make(env_id)\n",
    "\n",
    "state_size = env.observation_space.shape[0]\n",
    "action_size = env.action_space.n\n",
    "print(\"Observation size : \", state_size)\n",
    "print(\"Action size : \", action_size)"
   ]
  },
  {
   "cell_type": "markdown",
   "metadata": {},
   "source": [
    "## DQN Agent"
   ]
  },
  {
   "cell_type": "markdown",
   "metadata": {},
   "source": [
    "### Replay Buffer"
   ]
  },
  {
   "cell_type": "code",
   "execution_count": null,
   "metadata": {
    "collapsed": false
   },
   "outputs": [],
   "source": [
    "from collections import deque\n",
    "\n",
    "state = env.reset()\n",
    "action = env.action_space.sample()\n",
    "next_state, reward, done, _ = env.step(action)\n",
    "\n",
    "print(\"state_size:\", np.shape(state))\n",
    "print(\"next_state_size:\", np.shape(next_state))\n",
    "\n",
    "# state, next_state의 차원을 늘림. batch 단위로 묶을 때 size를 맞추기 위해\n",
    "# 참고) np.expand_dims( array, axis=0 )\n",
    "state = \n",
    "next_state = \n",
    "\n",
    "print(\"state_size:\", np.shape(state))\n",
    "print(\"next_state_size:\", np.shape(next_state))"
   ]
  },
  {
   "cell_type": "code",
   "execution_count": null,
   "metadata": {
    "collapsed": false
   },
   "outputs": [],
   "source": [
    "#  deque buffer 생성\n",
    "buffer = deque(maxlen=1000)\n",
    "\n",
    "# buffer에 transition((state, action, reward, next_state, done))을 append\n",
    "transition = \n",
    "\n",
    "\n",
    "print(np.shape(buffer))\n",
    "print(buffer)"
   ]
  },
  {
   "cell_type": "code",
   "execution_count": null,
   "metadata": {
    "collapsed": false
   },
   "outputs": [],
   "source": [
    "# buffer에서 batch size만큼 sampling\n",
    "for i in range(5):\n",
    "    buffer.append(transition)\n",
    "    \n",
    "# 참고) random.sample(list, sample 수)\n",
    "transitions = \n",
    "print(transitions)\n",
    "\n",
    "state, action, reward, next_state, done = [], [], [], [], []\n",
    "for t in transitions:\n",
    "    # 각 리스트에 transition의 요소들을 하나씩 append\n",
    "    # state\n",
    "    # action\n",
    "    # reward\n",
    "    # next_state\n",
    "    # done\n",
    "    \n",
    "state = np.squeeze(state)\n",
    "next_state = np.squeeze(next_state)\n",
    "\n",
    "print(np.shape(state))\n",
    "print(next_state)\n",
    "print(action)\n",
    "print(reward)\n",
    "print(done)"
   ]
  },
  {
   "cell_type": "markdown",
   "metadata": {},
   "source": [
    "### Replay Buffer class"
   ]
  },
  {
   "cell_type": "code",
   "execution_count": null,
   "metadata": {
    "collapsed": true
   },
   "outputs": [],
   "source": [
    "# Unifrom Replay Buffer\n",
    "class Replay_Buffer(object):\n",
    "    def __init__(self, capacity):\n",
    "        # 직접 작성해보세요\n",
    "        self.buffer = \n",
    "    \n",
    "    # buffer 길이 체크\n",
    "    def __len__(self):\n",
    "        return len(self.buffer)\n",
    "    \n",
    "    # buffer에 sample 추가\n",
    "    def add_sample(self, state, action, reward, next_state, done):\n",
    "        # 직접 작성해보세요.\n",
    "        state      = \n",
    "        next_state = \n",
    "            \n",
    "        # buffer에 append\n",
    "    \n",
    "    # buffer에서 batch_size만큼 뽑기\n",
    "    def sampling(self, batch_size):\n",
    "        state, action, reward, next_state, done = zip(*random.sample(self.buffer, batch_size))\n",
    "        return np.concatenate(state), action, reward, np.concatenate(next_state), done"
   ]
  },
  {
   "cell_type": "markdown",
   "metadata": {},
   "source": [
    "### DQN Agent Class\n",
    "<img src=\"./img/hyperparameters.png\" width=\"100%\" align=\"left\"> "
   ]
  },
  {
   "cell_type": "markdown",
   "metadata": {},
   "source": [
    "Q Learning에서 Q함수의 업데이트식은 다음과 같다.\n",
    "$$Q(s,a) \\gets Q(s,a) +  \\alpha [r + \\gamma Q(s \\prime, argmax_{a\\prime} Q(s \\prime,  a\\prime) - Q(s,a)]$$  \n",
    "DQN에서는 업데이트식에서 TD error 부분을 Loss로 보고 학습한다.\n",
    "$$ Loss = E [(y - Q(s,a))^{2}]$$"
   ]
  },
  {
   "cell_type": "code",
   "execution_count": null,
   "metadata": {
    "collapsed": true
   },
   "outputs": [],
   "source": [
    "layer = tf.contrib.layers\n",
    "\n",
    "class DQNAgent:\n",
    "    def __init__(self, sess, state_size, action_size):\n",
    "        self.sess = sess    \n",
    "        \n",
    "        self.state_size = state_size\n",
    "        self.action_size = action_size\n",
    "        \n",
    "        # hyper parameter\n",
    "        self.batch_size = 32\n",
    "        self.s_epsilon = 1\n",
    "        self.e_epsilon = 0.01\n",
    "        self.n_epsilon_decay = 1000\n",
    "        self.epsilon = self.s_epsilon\n",
    "        self.discount_factor = 0.99\n",
    "        self.learning_rate = 0.00025\n",
    "        \n",
    "        # set placeholder\n",
    "        self.input_p_net = tf.placeholder(tf.float32, shape=(None, self.state_size))\n",
    "        self.input_t_net = tf.placeholder(tf.float32, shape=(None, self.state_size))\n",
    "        \n",
    "        # action placeholder used to get main Q(S,A)\n",
    "        self.input_A = tf.placeholder(tf.int32, shape=None)\n",
    "        \n",
    "        # target Y placeholder\n",
    "        self.input_Y = tf.placeholder(tf.float32, shape=None)\n",
    "        \n",
    "        self.policy_q = self._build_network(self.input_p_net, \"policy_net\")\n",
    "        self.target_q = self._build_network(self.input_t_net, \"target_net\")\n",
    "        \n",
    "        self.loss_op, self.train_op = self._build_op()\n",
    "        \n",
    "    def _build_network(self, inputs, name):\n",
    "        \"\"\"\n",
    "        tf.contrib.layers.fully_connected()를 이용해\n",
    "        hidden layer가 하나인 신경망을 구성합니다.\n",
    "        입력 : 상태 (state_size)\n",
    "        출력 : q-value (action_size)\n",
    "        hidden layer size : 128\n",
    "        activation function : Relu\n",
    "        \"\"\"\n",
    "        # 빈칸 {} 을 지우고 채워주세요.\n",
    "        # 참고) layer.fully_connected(입력, 출력 사이즈, activation function)\n",
    "        # 참고2) relu -> tf.nn.relu\n",
    "        with tf.variable_scope(name):          \n",
    "            fc1 = layer.fully_connected({}, {}, activation_fn={})\n",
    "            fc2 = layer.fully_connected({}, {}, activation_fn={})\n",
    "            q_value = layer.fully_connected({}, {}, activation_fn=None)\n",
    "        return q_value\n",
    "    \n",
    "    def _get_Q_with_A(self, Q_value):\n",
    "        \"\"\"\n",
    "        Q(S,A) 를 구합니다. [batch_size,]\n",
    "        Q 신경망을 이용해 특정 action에 해당하는 Q-value를 구합니다.\n",
    "        \"\"\"\n",
    "        # 직접 작성해보세요.\n",
    "        # 참고) # 이전 실습에서 현재 action에 대한 Q_value 구하는 연산\n",
    "        #          curr_action = tf.one_hot(input_action, action_size)\n",
    "        #          curr_q_value = tf.reduce_sum(tf.multiply(q_value, curr_action))\n",
    "        one_hot = \n",
    "        Q_with_A = \n",
    "        return Q_with_A\n",
    "\n",
    "    def _get_Y(self, next_state, reward, done):\n",
    "        \"\"\"\n",
    "        학습 시 Target이 되는 Y값을 구합니다. (Reward + 다음 state의 Q값들 중 max)\n",
    "        \"\"\"\n",
    "\n",
    "        # 참고)\n",
    "        # # episode가 끝났다면\n",
    "        # if done:\n",
    "        #         next_q_value = np.array([reward])\n",
    "        # # 끝나지 않았다면\n",
    "        # else:\n",
    "        #         next_q_value = reward + gamma * np.max(sess.run(q_value, feed_dict={inputs: next_state}), axis=1)\n",
    "\n",
    "        Y = \n",
    "        return Y\n",
    "    \n",
    "    def _build_op(self):\n",
    "        \"\"\"\n",
    "        신경망 학습을 위한 Loss function과 Optimaizer를 정의합니다.\n",
    "        \"\"\"\n",
    "        # 참고) 이전 실습에서 Loss 함수 구성\n",
    "        #         loss_op = tf.square(target - curr_q_value)\n",
    "        #         opt = tf.train.GradientDescentOptimizer(learning_rate=0.1)\n",
    "        #         train_op = opt.minimize(loss_op)\n",
    "        main_Q_with_A = \n",
    "        loss_op = \n",
    "        train_op = tf.train.RMSPropOptimizer(learning_rate=self.learning_rate,\n",
    "                                                              decay=0.95,\n",
    "                                                              momentum=0.95,\n",
    "                                                              epsilon=0.01).minimize(loss_op)\n",
    "        return loss_op, train_op\n",
    "    \n",
    "    def train(self):\n",
    "        \"\"\"\n",
    "        replay buffer에서 batch size만큼 가져온 후\n",
    "        학습 네트워크를 학습합니다.\n",
    "        loss function은 위의 수식 참고\n",
    "        \"\"\"\n",
    "        # replay buffer로부터 transition을 가져옴\n",
    "        # 직접 작성해보세요.\n",
    "        # 참고) 위에 작성한 replay buffer class, replay_buffer.sampling()\n",
    "        state, action, reward, next_state, is_terminal = \n",
    "        \n",
    "        action = np.squeeze(action, 1)\n",
    "\n",
    "        # get target Y: [batch_size,]\n",
    "        # 내장 함수 get_Y를 이용함.\n",
    "        Y = \n",
    "        loss, _ = self.sess.run([{}, {}], feed_dict={{}})\n",
    "        return loss\n",
    "    \n",
    "    def update_target_network(self):\n",
    "        \"\"\"\n",
    "        학습 네트웍의 변수의 값들을 타겟 네트웍으로 복사해서 타겟 네트웍의 값들을 최신으로 업데이트합니다.\n",
    "        \"\"\"\n",
    "        copy_op = []\n",
    "\n",
    "        main_q_vars = tf.get_collection(tf.GraphKeys.TRAINABLE_VARIABLES, scope='policy_net')\n",
    "        target_vars = tf.get_collection(tf.GraphKeys.TRAINABLE_VARIABLES, scope='target_net')\n",
    "\n",
    "        for main_q_var, target_var in zip(main_q_vars, target_vars):\n",
    "            copy_op.append(target_var.assign(main_q_var.value()))\n",
    "        self.sess.run(copy_op)\n",
    "        \n",
    "    def get_action(self, state, is_play=False):\n",
    "        \"\"\"\n",
    "        epsilon-greedy로 action을 선택합니다.\n",
    "        \"\"\"\n",
    "        if is_play:\n",
    "            self.epsion = 0\n",
    "        \n",
    "        # epsilon greedy policy\n",
    "        # 직접 작성해보세요.\n",
    "        if self.epsilon > random.random():\n",
    "            action = \n",
    "        else:\n",
    "            # 참고) policy_q 에 state를 입력해 나온 출력중 max 인것 선택\n",
    "            # 참고2) 입력 사이즈를 맞추기 위해 state에 추가 처리를 해야함\n",
    "            action = \n",
    "        \n",
    "        # 매 step마다 epsilon을 줄여나갑니다.\n",
    "        if self.epsilon >= self.e_epsilon:\n",
    "            self.epsilon -= (self.s_epsilon - self.e_epsilon)/self.n_epsilon_decay    \n",
    "        return action"
   ]
  },
  {
   "cell_type": "markdown",
   "metadata": {
    "collapsed": true
   },
   "source": [
    "### DQN agent train"
   ]
  },
  {
   "cell_type": "code",
   "execution_count": null,
   "metadata": {
    "collapsed": true
   },
   "outputs": [],
   "source": [
    "# Session 열기\n",
    "sess = tf.Session()\n",
    "\n",
    "# DQN Agent 객체 생성\n",
    "agent = DQNAgent(sess, state_size, action_size)\n",
    "\n",
    "# 변수 초기화\n",
    "sess.run(tf.global_variables_initializer())"
   ]
  },
  {
   "cell_type": "markdown",
   "metadata": {},
   "source": [
    "### DQN 학습"
   ]
  },
  {
   "cell_type": "code",
   "execution_count": null,
   "metadata": {
    "collapsed": false
   },
   "outputs": [],
   "source": [
    "EPISODE = 30\n",
    "\n",
    "replay_initial = 50\n",
    "target_update = 10\n",
    "\n",
    "total_step = 1\n",
    "all_episode_reward = []\n",
    "losses = []\n",
    "\n",
    "replay_buffer = Replay_Buffer(capacity=1000)\n",
    "for e in range(EPISODE):\n",
    "    print(\"EPISODE: {}\".format(e+1))\n",
    "    observation = env.reset()\n",
    "    done = False\n",
    "   \n",
    "    step = 1\n",
    "    episode_reward = 0\n",
    "    frames = []\n",
    "    \n",
    "    while not done:\n",
    "        # 직접 작성해보세요.\n",
    "        # action 선택\n",
    "        action = \n",
    "        \n",
    "        # 선택한 action으로 env.step()\n",
    "        next_observation, reward, done, _ = env.step(action)\n",
    "        step += 1\n",
    "        total_step += 1\n",
    "        episode_reward += reward\n",
    "        \n",
    "        # trajectory(S, A, R, S', done)를 Replay buffer에 저장 \n",
    "        # replay buffer에 저장하는 코드 작성\n",
    "        \n",
    "        observation = next_observation\n",
    "        \n",
    "        # 만약에 episode가 끝났으면 reward 저장\n",
    "        if done:\n",
    "            all_episode_reward.append(episode_reward)\n",
    "        \n",
    "        # replay buffer가 일정 이상 채워지면 학습 시작\n",
    "        if len(replay_buffer) > replay_initial:\n",
    "            # 신경망 업데이트 코드 작성\n",
    "            loss = \n",
    "            losses.append(loss)\n",
    "            \n",
    "        # 일정 step마다 target Q 업데이트\n",
    "        if total_step > replay_initial and total_step % target_update == 0:\n",
    "            # policy network를 target network에 복사해주는 코드 작성\n",
    "            \n",
    "        # 그래프 그리기\n",
    "        if total_step % 100 == 0:\n",
    "            plot(step, e, all_episode_reward, losses)\n",
    "            \n",
    "    print(total_step)\n",
    "    env.close()"
   ]
  },
  {
   "cell_type": "markdown",
   "metadata": {},
   "source": [
    "### 학습된 DQN 테스트"
   ]
  },
  {
   "cell_type": "code",
   "execution_count": null,
   "metadata": {
    "collapsed": true
   },
   "outputs": [],
   "source": []
  }
 ],
 "metadata": {
  "kernelspec": {
   "display_name": "rl_study",
   "language": "python",
   "name": "rl_study"
  },
  "language_info": {
   "codemirror_mode": {
    "name": "ipython",
    "version": 3
   },
   "file_extension": ".py",
   "mimetype": "text/x-python",
   "name": "python",
   "nbconvert_exporter": "python",
   "pygments_lexer": "ipython3",
   "version": "3.5.4"
  }
 },
 "nbformat": 4,
 "nbformat_minor": 2
}
